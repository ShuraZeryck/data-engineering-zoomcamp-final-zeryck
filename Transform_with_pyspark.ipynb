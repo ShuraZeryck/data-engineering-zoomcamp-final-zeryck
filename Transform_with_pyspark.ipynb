{
 "cells": [
  {
   "cell_type": "code",
   "execution_count": 1,
   "metadata": {},
   "outputs": [],
   "source": [
    "import numpy as np\n",
    "import pyspark\n",
    "from pyspark.sql import SparkSession\n",
    "from pyspark.sql import types\n",
    "from pyspark.sql import functions as F"
   ]
  },
  {
   "cell_type": "code",
   "execution_count": 2,
   "metadata": {},
   "outputs": [],
   "source": [
    "spark = SparkSession.builder \\\n",
    "    .master(\"local[*]\") \\\n",
    "    .appName('Transform_in_warehouse') \\\n",
    "    .config('spark.jars', 'gs://spark-lib/bigquery/spark-bigquery-with-dependencies_2.12-0.23.2.jar') \\\n",
    "    .getOrCreate()"
   ]
  },
  {
   "cell_type": "code",
   "execution_count": 3,
   "metadata": {},
   "outputs": [],
   "source": [
    "bucket = \"project_data_lake_final-dtc-project\"\n",
    "spark.conf.set('temporaryGcsBucket', bucket)"
   ]
  },
  {
   "cell_type": "markdown",
   "metadata": {},
   "source": [
    "#### Read in dataframes\n",
    "\n",
    "Song feature dataframe"
   ]
  },
  {
   "cell_type": "code",
   "execution_count": 4,
   "metadata": {},
   "outputs": [],
   "source": [
    "# Make sure integers don't get read in as LongType\n",
    "\n",
    "feat_schema = types.StructType([\n",
    "    types.StructField('song_id', types.StringType(), True),\n",
    "    types.StructField('duration_ms', types.IntegerType(), True),\n",
    "    types.StructField('key', types.IntegerType(), True),\n",
    "    types.StructField('mode', types.IntegerType(), True),\n",
    "    types.StructField('time_signature', types.IntegerType(), True),\n",
    "    types.StructField('acousticness', types.DoubleType(), True),\n",
    "    types.StructField('danceability', types.DoubleType(), True),\n",
    "    types.StructField('energy', types.DoubleType(), True),\n",
    "    types.StructField('instrumentalness', types.DoubleType(), True),\n",
    "    types.StructField('liveness', types.DoubleType(), True),\n",
    "    types.StructField('loudness', types.DoubleType(), True),\n",
    "    types.StructField('speechiness', types.DoubleType(), True),\n",
    "    types.StructField('valence', types.DoubleType(), True),\n",
    "    types.StructField('tempo', types.DoubleType(), True)\n",
    "])"
   ]
  },
  {
   "cell_type": "code",
   "execution_count": 6,
   "metadata": {},
   "outputs": [
    {
     "name": "stdout",
     "output_type": "stream",
     "text": [
      "root\n",
      " |-- song_id: string (nullable = true)\n",
      " |-- duration_ms: integer (nullable = true)\n",
      " |-- key: integer (nullable = true)\n",
      " |-- mode: integer (nullable = true)\n",
      " |-- time_signature: integer (nullable = true)\n",
      " |-- acousticness: double (nullable = true)\n",
      " |-- danceability: double (nullable = true)\n",
      " |-- energy: double (nullable = true)\n",
      " |-- instrumentalness: double (nullable = true)\n",
      " |-- liveness: double (nullable = true)\n",
      " |-- loudness: double (nullable = true)\n",
      " |-- speechiness: double (nullable = true)\n",
      " |-- valence: double (nullable = true)\n",
      " |-- tempo: double (nullable = true)\n",
      "\n"
     ]
    }
   ],
   "source": [
    "df_feat = spark.read \\\n",
    "    .format('bigquery') \\\n",
    "    .schema(feat_schema) \\\n",
    "    .option('table', 'final-dtc-project.song_data.song_feature_data') \\\n",
    "    .load()\n",
    "\n",
    "df_feat.printSchema()"
   ]
  },
  {
   "cell_type": "code",
   "execution_count": 7,
   "metadata": {},
   "outputs": [],
   "source": [
    "df_feat.createOrReplaceTempView('df_feat')"
   ]
  },
  {
   "cell_type": "markdown",
   "metadata": {},
   "source": [
    "Song popularity dataframe"
   ]
  },
  {
   "cell_type": "code",
   "execution_count": 8,
   "metadata": {},
   "outputs": [],
   "source": [
    "# Again, make sure integers don't get read in as LongType\n",
    "\n",
    "pop_schema = types.StructType([\n",
    "    types.StructField('song_id', types.StringType(), True),\n",
    "    types.StructField('rank_score', types.IntegerType(), True),\n",
    "    types.StructField('peak_position', types.IntegerType(), True),\n",
    "    types.StructField('weeks_on_chart', types.IntegerType(), True),\n",
    "    types.StructField('week', types.DateType(), True)\n",
    "])"
   ]
  },
  {
   "cell_type": "code",
   "execution_count": 9,
   "metadata": {},
   "outputs": [
    {
     "name": "stdout",
     "output_type": "stream",
     "text": [
      "root\n",
      " |-- song_id: string (nullable = true)\n",
      " |-- rank_score: integer (nullable = true)\n",
      " |-- peak_position: integer (nullable = true)\n",
      " |-- weeks_on_chart: integer (nullable = true)\n",
      " |-- week: date (nullable = true)\n",
      "\n"
     ]
    }
   ],
   "source": [
    "df_pop = spark.read \\\n",
    "    .format('bigquery') \\\n",
    "    .schema(pop_schema) \\\n",
    "    .option('table', 'final-dtc-project.song_data.song_popularity_data') \\\n",
    "    .load()\n",
    "\n",
    "df_pop.printSchema()"
   ]
  },
  {
   "cell_type": "code",
   "execution_count": 10,
   "metadata": {},
   "outputs": [],
   "source": [
    "df_pop.createOrReplaceTempView('df_pop')"
   ]
  },
  {
   "cell_type": "markdown",
   "metadata": {},
   "source": [
    "#### Transform data\n",
    "\n",
    "Spark UDFs"
   ]
  },
  {
   "cell_type": "code",
   "execution_count": 11,
   "metadata": {},
   "outputs": [
    {
     "name": "stdout",
     "output_type": "stream",
     "text": [
      "root\n",
      " |-- song_id: string (nullable = true)\n",
      " |-- duration_ms: integer (nullable = true)\n",
      " |-- key: string (nullable = true)\n",
      " |-- mode: string (nullable = true)\n",
      " |-- time_signature: integer (nullable = true)\n",
      " |-- danceability: double (nullable = true)\n",
      " |-- energy: double (nullable = true)\n",
      " |-- loudness: double (nullable = true)\n",
      " |-- valence: double (nullable = true)\n",
      " |-- tempo: double (nullable = true)\n",
      "\n"
     ]
    }
   ],
   "source": [
    "# Map 'key' column and 'mode' column in the song feature dataset\n",
    "# from integers to more readable values, using info from the dataset READMEs.\n",
    "# Select only desired columns.\n",
    "\n",
    "pitches = ['C', 'C#', 'D', 'D#', 'E', 'F', 'F#', 'G', 'G#', 'A', 'A#', 'B']\n",
    "modes = ['Minor','Major']\n",
    "\n",
    "mapKeyCol = F.udf(lambda x: pitches[x])\n",
    "mapModeCol = F.udf(lambda x: modes[x])\n",
    "\n",
    "df_feat = df_feat \\\n",
    "    .withColumn('key', mapKeyCol(df_feat.key)) \\\n",
    "    .withColumn('mode', mapModeCol(df_feat.mode)) \\\n",
    "    .select('song_id','duration_ms',  'key', 'mode', 'time_signature',\n",
    "            'danceability', 'energy', 'loudness', 'valence', 'tempo')\n",
    "\n",
    "df_feat.printSchema()"
   ]
  },
  {
   "cell_type": "code",
   "execution_count": 12,
   "metadata": {},
   "outputs": [],
   "source": [
    "df_feat.createOrReplaceTempView('df_feat')"
   ]
  },
  {
   "cell_type": "markdown",
   "metadata": {},
   "source": [
    "Spark SQL"
   ]
  },
  {
   "cell_type": "code",
   "execution_count": 16,
   "metadata": {},
   "outputs": [
    {
     "name": "stdout",
     "output_type": "stream",
     "text": [
      "+--------------------+----+\n",
      "|             song_id|year|\n",
      "+--------------------+----+\n",
      "|1TRvdHDqCIcTQpHTZ...|1964|\n",
      "|6kR2BCzArduYNuJdt...|1964|\n",
      "|1FXX4oUbO6eJEszwR...|1964|\n",
      "|5ysUfRP9UwPZ7Npmh...|1964|\n",
      "|39xymLsE59O6HtMtq...|1964|\n",
      "|5cCf88l6a1uXHMSf0...|1964|\n",
      "|7ssLCxMwgVRAchoKP...|1964|\n",
      "|7wGbzk3aeGSpnsK2A...|1964|\n",
      "|0qr77Nfice5jmmGCf...|1964|\n",
      "|21TQE7gTsbYSDRgit...|1964|\n",
      "+--------------------+----+\n",
      "only showing top 10 rows\n",
      "\n"
     ]
    }
   ],
   "source": [
    "# Filter the popularity data to only include songs at number 1 on the chart,\n",
    "# and take only year value from week column\n",
    "\n",
    "df_pop_tr = spark.sql(\"\"\"\n",
    "SELECT song_id, YEAR(week) AS year\n",
    "FROM df_pop\n",
    "WHERE rank_score = 1\n",
    "ORDER BY week\n",
    "\"\"\")\n",
    "\n",
    "df_pop_tr.show(10)"
   ]
  },
  {
   "cell_type": "code",
   "execution_count": 17,
   "metadata": {},
   "outputs": [],
   "source": [
    "df_pop_tr.createOrReplaceTempView('df_pop_tr')"
   ]
  },
  {
   "cell_type": "code",
   "execution_count": 18,
   "metadata": {},
   "outputs": [
    {
     "name": "stdout",
     "output_type": "stream",
     "text": [
      "+--------------------+------+---+-----+---------+------------+------+--------+-------+-------+----+\n",
      "|             song_id|dur_ms|key| mode|time_sign|danceability|energy|loudness|valence|  tempo|year|\n",
      "+--------------------+------+---+-----+---------+------------+------+--------+-------+-------+----+\n",
      "|1TRvdHDqCIcTQpHTZ...|156800|  C|Major|        4|       0.666|  0.63|  -7.929|  0.615|141.389|1964|\n",
      "|6kR2BCzArduYNuJdt...|159040|  C|Major|        4|       0.476| 0.525|  -10.82|  0.895|122.023|1964|\n",
      "|1FXX4oUbO6eJEszwR...|151813|  D|Minor|        5|       0.105| 0.342| -10.903|  0.307| 79.467|1964|\n",
      "|5ysUfRP9UwPZ7Npmh...|153120|  C|Major|        4|       0.452| 0.951|    3.44|  0.668|127.237|1964|\n",
      "|39xymLsE59O6HtMtq...|155200| G#|Major|        3|       0.561| 0.484|  -9.678|  0.633|  81.73|1964|\n",
      "|5cCf88l6a1uXHMSf0...|176300| A#|Major|        4|       0.516| 0.176| -14.337|  0.196| 80.206|1964|\n",
      "|7ssLCxMwgVRAchoKP...|179978|  F|Major|        3|       0.312| 0.206| -11.915|  0.288|110.597|1964|\n",
      "|7wGbzk3aeGSpnsK2A...|177136|  F|Minor|        4|       0.725| 0.616|  -3.299|  0.594|125.817|1964|\n",
      "|0qr77Nfice5jmmGCf...|174003| A#|Major|        4|       0.562| 0.898|  -7.569|  0.973| 203.46|1964|\n",
      "|21TQE7gTsbYSDRgit...|199560|  F|Minor|        4|       0.624| 0.706|  -9.039|  0.762|101.327|1964|\n",
      "+--------------------+------+---+-----+---------+------------+------+--------+-------+-------+----+\n",
      "only showing top 10 rows\n",
      "\n",
      "root\n",
      " |-- song_id: string (nullable = true)\n",
      " |-- dur_ms: integer (nullable = true)\n",
      " |-- key: string (nullable = true)\n",
      " |-- mode: string (nullable = true)\n",
      " |-- time_sign: integer (nullable = true)\n",
      " |-- danceability: double (nullable = true)\n",
      " |-- energy: double (nullable = true)\n",
      " |-- loudness: double (nullable = true)\n",
      " |-- valence: double (nullable = true)\n",
      " |-- tempo: double (nullable = true)\n",
      " |-- year: integer (nullable = true)\n",
      "\n"
     ]
    }
   ],
   "source": [
    "# Left-join the list of number 1 songs by week\n",
    "# with the song features dataset, on song_id column\n",
    "\n",
    "df_joined = spark.sql(\"\"\"\n",
    "SELECT\n",
    "    f.song_id, duration_ms AS dur_ms, key, mode, time_signature AS time_sign,\n",
    "    danceability, energy, loudness, valence AS positivity, tempo, year\n",
    "FROM\n",
    "    df_pop_tr as p\n",
    "LEFT JOIN\n",
    "    df_feat AS f    \n",
    "WHERE\n",
    "    f.song_id = p.song_id\n",
    "\"\"\")\n",
    "\n",
    "df_joined.show(10)\n",
    "df_joined.printSchema()"
   ]
  },
  {
   "cell_type": "markdown",
   "metadata": {},
   "source": [
    "#### Write data to BigQuery"
   ]
  },
  {
   "cell_type": "code",
   "execution_count": 19,
   "metadata": {},
   "outputs": [],
   "source": [
    "df_joined.write.format('bigquery') \\\n",
    "  .option('table', 'song_data.joined_feat_pop') \\\n",
    "  .save()"
   ]
  },
  {
   "cell_type": "code",
   "execution_count": null,
   "metadata": {},
   "outputs": [],
   "source": []
  }
 ],
 "metadata": {
  "kernelspec": {
   "display_name": "Python 3 (ipykernel)",
   "language": "python",
   "name": "python3"
  },
  "language_info": {
   "codemirror_mode": {
    "name": "ipython",
    "version": 3
   },
   "file_extension": ".py",
   "mimetype": "text/x-python",
   "name": "python",
   "nbconvert_exporter": "python",
   "pygments_lexer": "ipython3",
   "version": "3.9.7"
  }
 },
 "nbformat": 4,
 "nbformat_minor": 2
}
